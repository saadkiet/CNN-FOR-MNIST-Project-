{
  "nbformat": 4,
  "nbformat_minor": 0,
  "metadata": {
    "colab": {
      "name": "TF2.1 CNN FOR MNIST (Project).ipynb",
      "provenance": [],
      "collapsed_sections": [],
      "toc_visible": true,
      "authorship_tag": "ABX9TyNEscpDHV013ZjFNoxqIPqA",
      "include_colab_link": true
    },
    "kernelspec": {
      "name": "python3",
      "display_name": "Python 3"
    },
    "accelerator": "GPU"
  },
  "cells": [
    {
      "cell_type": "markdown",
      "metadata": {
        "id": "view-in-github",
        "colab_type": "text"
      },
      "source": [
        "<a href=\"https://colab.research.google.com/github/saadkiet/CNN-FOR-MNIST-Project-/blob/master/CNN_FOR_MNIST_(Project).ipynb\" target=\"_parent\"><img src=\"https://colab.research.google.com/assets/colab-badge.svg\" alt=\"Open In Colab\"/></a>"
      ]
    },
    {
      "cell_type": "markdown",
      "metadata": {
        "id": "gS2aylY-r6Q0",
        "colab_type": "text"
      },
      "source": [
        "# Step 1 : Install and Step up"
      ]
    },
    {
      "cell_type": "code",
      "metadata": {
        "id": "OZykda_ajtj1",
        "colab_type": "code",
        "outputId": "cb280abd-7295-4c07-adbd-4599d0da6659",
        "colab": {
          "base_uri": "https://localhost:8080/",
          "height": 1000
        }
      },
      "source": [
        "pip install tensorflow-gpu"
      ],
      "execution_count": 0,
      "outputs": [
        {
          "output_type": "stream",
          "text": [
            "Collecting tensorflow-gpu\n",
            "\u001b[?25l  Downloading https://files.pythonhosted.org/packages/0a/93/c7bca39b23aae45cd2e85ad3871c81eccc63b9c5276e926511e2e5b0879d/tensorflow_gpu-2.1.0-cp36-cp36m-manylinux2010_x86_64.whl (421.8MB)\n",
            "\u001b[K     |████████████████████████████████| 421.8MB 21kB/s \n",
            "\u001b[?25hRequirement already satisfied: keras-preprocessing>=1.1.0 in /usr/local/lib/python3.6/dist-packages (from tensorflow-gpu) (1.1.0)\n",
            "Requirement already satisfied: opt-einsum>=2.3.2 in /usr/local/lib/python3.6/dist-packages (from tensorflow-gpu) (3.2.1)\n",
            "Requirement already satisfied: scipy==1.4.1; python_version >= \"3\" in /usr/local/lib/python3.6/dist-packages (from tensorflow-gpu) (1.4.1)\n",
            "Requirement already satisfied: grpcio>=1.8.6 in /usr/local/lib/python3.6/dist-packages (from tensorflow-gpu) (1.28.1)\n",
            "Requirement already satisfied: google-pasta>=0.1.6 in /usr/local/lib/python3.6/dist-packages (from tensorflow-gpu) (0.2.0)\n",
            "Requirement already satisfied: protobuf>=3.8.0 in /usr/local/lib/python3.6/dist-packages (from tensorflow-gpu) (3.10.0)\n",
            "Requirement already satisfied: keras-applications>=1.0.8 in /usr/local/lib/python3.6/dist-packages (from tensorflow-gpu) (1.0.8)\n",
            "Collecting gast==0.2.2\n",
            "  Downloading https://files.pythonhosted.org/packages/4e/35/11749bf99b2d4e3cceb4d55ca22590b0d7c2c62b9de38ac4a4a7f4687421/gast-0.2.2.tar.gz\n",
            "Collecting tensorboard<2.2.0,>=2.1.0\n",
            "\u001b[?25l  Downloading https://files.pythonhosted.org/packages/d9/41/bbf49b61370e4f4d245d4c6051dfb6db80cec672605c91b1652ac8cc3d38/tensorboard-2.1.1-py3-none-any.whl (3.8MB)\n",
            "\u001b[K     |████████████████████████████████| 3.9MB 50.7MB/s \n",
            "\u001b[?25hRequirement already satisfied: termcolor>=1.1.0 in /usr/local/lib/python3.6/dist-packages (from tensorflow-gpu) (1.1.0)\n",
            "Requirement already satisfied: six>=1.12.0 in /usr/local/lib/python3.6/dist-packages (from tensorflow-gpu) (1.12.0)\n",
            "Requirement already satisfied: wheel>=0.26; python_version >= \"3\" in /usr/local/lib/python3.6/dist-packages (from tensorflow-gpu) (0.34.2)\n",
            "Requirement already satisfied: absl-py>=0.7.0 in /usr/local/lib/python3.6/dist-packages (from tensorflow-gpu) (0.9.0)\n",
            "Collecting tensorflow-estimator<2.2.0,>=2.1.0rc0\n",
            "\u001b[?25l  Downloading https://files.pythonhosted.org/packages/18/90/b77c328a1304437ab1310b463e533fa7689f4bfc41549593056d812fab8e/tensorflow_estimator-2.1.0-py2.py3-none-any.whl (448kB)\n",
            "\u001b[K     |████████████████████████████████| 450kB 53.4MB/s \n",
            "\u001b[?25hRequirement already satisfied: astor>=0.6.0 in /usr/local/lib/python3.6/dist-packages (from tensorflow-gpu) (0.8.1)\n",
            "Requirement already satisfied: numpy<2.0,>=1.16.0 in /usr/local/lib/python3.6/dist-packages (from tensorflow-gpu) (1.18.3)\n",
            "Requirement already satisfied: wrapt>=1.11.1 in /usr/local/lib/python3.6/dist-packages (from tensorflow-gpu) (1.12.1)\n",
            "Requirement already satisfied: setuptools in /usr/local/lib/python3.6/dist-packages (from protobuf>=3.8.0->tensorflow-gpu) (46.1.3)\n",
            "Requirement already satisfied: h5py in /usr/local/lib/python3.6/dist-packages (from keras-applications>=1.0.8->tensorflow-gpu) (2.10.0)\n",
            "Requirement already satisfied: markdown>=2.6.8 in /usr/local/lib/python3.6/dist-packages (from tensorboard<2.2.0,>=2.1.0->tensorflow-gpu) (3.2.1)\n",
            "Requirement already satisfied: requests<3,>=2.21.0 in /usr/local/lib/python3.6/dist-packages (from tensorboard<2.2.0,>=2.1.0->tensorflow-gpu) (2.23.0)\n",
            "Requirement already satisfied: google-auth<2,>=1.6.3 in /usr/local/lib/python3.6/dist-packages (from tensorboard<2.2.0,>=2.1.0->tensorflow-gpu) (1.7.2)\n",
            "Requirement already satisfied: google-auth-oauthlib<0.5,>=0.4.1 in /usr/local/lib/python3.6/dist-packages (from tensorboard<2.2.0,>=2.1.0->tensorflow-gpu) (0.4.1)\n",
            "Requirement already satisfied: werkzeug>=0.11.15 in /usr/local/lib/python3.6/dist-packages (from tensorboard<2.2.0,>=2.1.0->tensorflow-gpu) (1.0.1)\n",
            "Requirement already satisfied: idna<3,>=2.5 in /usr/local/lib/python3.6/dist-packages (from requests<3,>=2.21.0->tensorboard<2.2.0,>=2.1.0->tensorflow-gpu) (2.9)\n",
            "Requirement already satisfied: chardet<4,>=3.0.2 in /usr/local/lib/python3.6/dist-packages (from requests<3,>=2.21.0->tensorboard<2.2.0,>=2.1.0->tensorflow-gpu) (3.0.4)\n",
            "Requirement already satisfied: certifi>=2017.4.17 in /usr/local/lib/python3.6/dist-packages (from requests<3,>=2.21.0->tensorboard<2.2.0,>=2.1.0->tensorflow-gpu) (2020.4.5.1)\n",
            "Requirement already satisfied: urllib3!=1.25.0,!=1.25.1,<1.26,>=1.21.1 in /usr/local/lib/python3.6/dist-packages (from requests<3,>=2.21.0->tensorboard<2.2.0,>=2.1.0->tensorflow-gpu) (1.24.3)\n",
            "Requirement already satisfied: cachetools<3.2,>=2.0.0 in /usr/local/lib/python3.6/dist-packages (from google-auth<2,>=1.6.3->tensorboard<2.2.0,>=2.1.0->tensorflow-gpu) (3.1.1)\n",
            "Requirement already satisfied: pyasn1-modules>=0.2.1 in /usr/local/lib/python3.6/dist-packages (from google-auth<2,>=1.6.3->tensorboard<2.2.0,>=2.1.0->tensorflow-gpu) (0.2.8)\n",
            "Requirement already satisfied: rsa<4.1,>=3.1.4 in /usr/local/lib/python3.6/dist-packages (from google-auth<2,>=1.6.3->tensorboard<2.2.0,>=2.1.0->tensorflow-gpu) (4.0)\n",
            "Requirement already satisfied: requests-oauthlib>=0.7.0 in /usr/local/lib/python3.6/dist-packages (from google-auth-oauthlib<0.5,>=0.4.1->tensorboard<2.2.0,>=2.1.0->tensorflow-gpu) (1.3.0)\n",
            "Requirement already satisfied: pyasn1<0.5.0,>=0.4.6 in /usr/local/lib/python3.6/dist-packages (from pyasn1-modules>=0.2.1->google-auth<2,>=1.6.3->tensorboard<2.2.0,>=2.1.0->tensorflow-gpu) (0.4.8)\n",
            "Requirement already satisfied: oauthlib>=3.0.0 in /usr/local/lib/python3.6/dist-packages (from requests-oauthlib>=0.7.0->google-auth-oauthlib<0.5,>=0.4.1->tensorboard<2.2.0,>=2.1.0->tensorflow-gpu) (3.1.0)\n",
            "Building wheels for collected packages: gast\n",
            "  Building wheel for gast (setup.py) ... \u001b[?25l\u001b[?25hdone\n",
            "  Created wheel for gast: filename=gast-0.2.2-cp36-none-any.whl size=7540 sha256=76e44baf6c948e947e00ece04744548ed51b4baf18ff2bc5ce7e9da0a649b584\n",
            "  Stored in directory: /root/.cache/pip/wheels/5c/2e/7e/a1d4d4fcebe6c381f378ce7743a3ced3699feb89bcfbdadadd\n",
            "Successfully built gast\n",
            "\u001b[31mERROR: tensorflow 2.2.0rc3 has requirement gast==0.3.3, but you'll have gast 0.2.2 which is incompatible.\u001b[0m\n",
            "\u001b[31mERROR: tensorflow 2.2.0rc3 has requirement tensorboard<2.3.0,>=2.2.0, but you'll have tensorboard 2.1.1 which is incompatible.\u001b[0m\n",
            "\u001b[31mERROR: tensorflow 2.2.0rc3 has requirement tensorflow-estimator<2.3.0,>=2.2.0rc0, but you'll have tensorflow-estimator 2.1.0 which is incompatible.\u001b[0m\n",
            "\u001b[31mERROR: tensorflow-probability 0.10.0rc0 has requirement gast>=0.3.2, but you'll have gast 0.2.2 which is incompatible.\u001b[0m\n",
            "Installing collected packages: gast, tensorboard, tensorflow-estimator, tensorflow-gpu\n",
            "  Found existing installation: gast 0.3.3\n",
            "    Uninstalling gast-0.3.3:\n",
            "      Successfully uninstalled gast-0.3.3\n",
            "  Found existing installation: tensorboard 2.2.1\n",
            "    Uninstalling tensorboard-2.2.1:\n",
            "      Successfully uninstalled tensorboard-2.2.1\n",
            "  Found existing installation: tensorflow-estimator 2.2.0\n",
            "    Uninstalling tensorflow-estimator-2.2.0:\n",
            "      Successfully uninstalled tensorflow-estimator-2.2.0\n",
            "Successfully installed gast-0.2.2 tensorboard-2.1.1 tensorflow-estimator-2.1.0 tensorflow-gpu-2.1.0\n"
          ],
          "name": "stdout"
        }
      ]
    },
    {
      "cell_type": "code",
      "metadata": {
        "id": "6gWR657ajze-",
        "colab_type": "code",
        "colab": {}
      },
      "source": [
        "import tensorflow as tf\n",
        "import pandas as pd\n",
        "import numpy as np\n",
        "import matplotlib.pyplot as plt\n",
        "from tensorflow.keras.models import Model"
      ],
      "execution_count": 0,
      "outputs": []
    },
    {
      "cell_type": "code",
      "metadata": {
        "id": "xWtJAjqIkMdt",
        "colab_type": "code",
        "colab": {}
      },
      "source": [
        "from tensorflow.keras.layers import Input, Conv2D, Dense, Flatten, Dropout, GlobalMaxPooling2D, MaxPooling2D, BatchNormalization"
      ],
      "execution_count": 0,
      "outputs": []
    },
    {
      "cell_type": "markdown",
      "metadata": {
        "id": "qISr6H3nuqmb",
        "colab_type": "text"
      },
      "source": [
        "# Step 2 : Importing MNIST Dataset"
      ]
    },
    {
      "cell_type": "code",
      "metadata": {
        "id": "TwUBA6YakPfV",
        "colab_type": "code",
        "colab": {}
      },
      "source": [
        "from tensorflow.keras.datasets import mnist"
      ],
      "execution_count": 0,
      "outputs": []
    },
    {
      "cell_type": "code",
      "metadata": {
        "id": "2BPRx07QkSvF",
        "colab_type": "code",
        "outputId": "5f7d206f-9d95-4833-eef1-a808b8dfb2e4",
        "colab": {
          "base_uri": "https://localhost:8080/",
          "height": 51
        }
      },
      "source": [
        "(xtrain,ytrain),(xtest,ytest)=mnist.load_data()"
      ],
      "execution_count": 0,
      "outputs": [
        {
          "output_type": "stream",
          "text": [
            "Downloading data from https://storage.googleapis.com/tensorflow/tf-keras-datasets/mnist.npz\n",
            "11493376/11490434 [==============================] - 0s 0us/step\n"
          ],
          "name": "stdout"
        }
      ]
    },
    {
      "cell_type": "code",
      "metadata": {
        "id": "kKyqpsZ9kWJO",
        "colab_type": "code",
        "outputId": "21642277-d716-41d3-a486-377b40cdb666",
        "colab": {
          "base_uri": "https://localhost:8080/",
          "height": 34
        }
      },
      "source": [
        "xtrain.shape, ytrain.shape"
      ],
      "execution_count": 0,
      "outputs": [
        {
          "output_type": "execute_result",
          "data": {
            "text/plain": [
              "((60000, 28, 28), (60000,))"
            ]
          },
          "metadata": {
            "tags": []
          },
          "execution_count": 6
        }
      ]
    },
    {
      "cell_type": "code",
      "metadata": {
        "id": "XYME2EehkX7B",
        "colab_type": "code",
        "colab": {}
      },
      "source": [
        "xtrain,xtest=xtrain/255,xtest/255"
      ],
      "execution_count": 0,
      "outputs": []
    },
    {
      "cell_type": "code",
      "metadata": {
        "id": "YK2ZSHSokcnw",
        "colab_type": "code",
        "outputId": "36548c23-e453-4170-8994-ed9e07065220",
        "colab": {
          "base_uri": "https://localhost:8080/",
          "height": 34
        }
      },
      "source": [
        "xtrain.max(),xtrain.min()"
      ],
      "execution_count": 0,
      "outputs": [
        {
          "output_type": "execute_result",
          "data": {
            "text/plain": [
              "(1.0, 0.0)"
            ]
          },
          "metadata": {
            "tags": []
          },
          "execution_count": 8
        }
      ]
    },
    {
      "cell_type": "code",
      "metadata": {
        "id": "9PPHXN3VkejJ",
        "colab_type": "code",
        "outputId": "eb555077-2053-4bca-d97e-420c0cb3c75c",
        "colab": {
          "base_uri": "https://localhost:8080/",
          "height": 34
        }
      },
      "source": [
        "xtrain[0].shape"
      ],
      "execution_count": 0,
      "outputs": [
        {
          "output_type": "execute_result",
          "data": {
            "text/plain": [
              "(28, 28)"
            ]
          },
          "metadata": {
            "tags": []
          },
          "execution_count": 9
        }
      ]
    },
    {
      "cell_type": "code",
      "metadata": {
        "id": "yLVHtHFSkhRs",
        "colab_type": "code",
        "colab": {}
      },
      "source": [
        "xtrain=np.expand_dims(xtrain,-1)"
      ],
      "execution_count": 0,
      "outputs": []
    },
    {
      "cell_type": "code",
      "metadata": {
        "id": "aKMGyC4lkvvT",
        "colab_type": "code",
        "outputId": "26d1c59e-dc9f-4f4a-fd47-28d41f272686",
        "colab": {
          "base_uri": "https://localhost:8080/",
          "height": 34
        }
      },
      "source": [
        "xtrain[0].shape"
      ],
      "execution_count": 0,
      "outputs": [
        {
          "output_type": "execute_result",
          "data": {
            "text/plain": [
              "(28, 28, 1)"
            ]
          },
          "metadata": {
            "tags": []
          },
          "execution_count": 11
        }
      ]
    },
    {
      "cell_type": "code",
      "metadata": {
        "id": "mycgvTEmkxc3",
        "colab_type": "code",
        "colab": {}
      },
      "source": [
        "xtest=np.expand_dims(xtest,-1)"
      ],
      "execution_count": 0,
      "outputs": []
    },
    {
      "cell_type": "code",
      "metadata": {
        "id": "P56LaZU5lZSw",
        "colab_type": "code",
        "outputId": "65e7ea03-c6f4-49c4-977f-78ed2b38e1ae",
        "colab": {
          "base_uri": "https://localhost:8080/",
          "height": 34
        }
      },
      "source": [
        "xtrain[0].shape"
      ],
      "execution_count": 0,
      "outputs": [
        {
          "output_type": "execute_result",
          "data": {
            "text/plain": [
              "(28, 28, 1)"
            ]
          },
          "metadata": {
            "tags": []
          },
          "execution_count": 13
        }
      ]
    },
    {
      "cell_type": "markdown",
      "metadata": {
        "id": "vgWl_5BrvHMd",
        "colab_type": "text"
      },
      "source": [
        "# Step 3 : Building The CNN model"
      ]
    },
    {
      "cell_type": "code",
      "metadata": {
        "id": "1M1NAqgRlQW0",
        "colab_type": "code",
        "colab": {}
      },
      "source": [
        "# Build the model using the functional API\n",
        "i = Input(shape=xtrain[0].shape)\n",
        "# x = Conv2D(32, (3, 3), strides=2, activation='relu')(i)\n",
        "# x = Conv2D(64, (3, 3), strides=2, activation='relu')(x)\n",
        "# x = Conv2D(128, (3, 3), strides=2, activation='relu')(x)\n",
        "\n",
        "x = Conv2D(32, (3, 3), activation='relu', padding='same')(i)\n",
        "x = BatchNormalization()(x)\n",
        "x = Conv2D(32, (3, 3), activation='relu', padding='same')(x)\n",
        "x = BatchNormalization()(x)\n",
        "x = MaxPooling2D((2, 2))(x)\n",
        "# x = Dropout(0.2)(x)\n",
        "x = Conv2D(64, (3, 3), activation='relu', padding='same')(x)\n",
        "x = BatchNormalization()(x)\n",
        "x = Conv2D(64, (3, 3), activation='relu', padding='same')(x)\n",
        "x = BatchNormalization()(x)\n",
        "x = MaxPooling2D((2, 2))(x)\n",
        "# x = Dropout(0.2)(x)\n",
        "x = Conv2D(128, (3, 3), activation='relu', padding='same')(x)\n",
        "x = BatchNormalization()(x)\n",
        "x = Conv2D(128, (3, 3), activation='relu', padding='same')(x)\n",
        "x = BatchNormalization()(x)\n",
        "x = MaxPooling2D((2, 2))(x)\n",
        "# x = Dropout(0.2)(x)\n",
        "\n",
        "# x = GlobalMaxPooling2D()(x)\n",
        "x = Flatten()(x)\n",
        "x = Dropout(0.2)(x)\n",
        "x = Dense(1024, activation='relu')(x)\n",
        "x = Dropout(0.2)(x)\n",
        "x = Dense(10, activation='softmax')(x)\n",
        "\n",
        "model = Model(i, x)"
      ],
      "execution_count": 0,
      "outputs": []
    },
    {
      "cell_type": "code",
      "metadata": {
        "id": "wsCD6MPulhml",
        "colab_type": "code",
        "outputId": "b6ba1796-809b-4dd8-e2c2-3c2ad77b7d26",
        "colab": {
          "base_uri": "https://localhost:8080/",
          "height": 867
        }
      },
      "source": [
        "model.summary()"
      ],
      "execution_count": 0,
      "outputs": [
        {
          "output_type": "stream",
          "text": [
            "Model: \"model\"\n",
            "_________________________________________________________________\n",
            "Layer (type)                 Output Shape              Param #   \n",
            "=================================================================\n",
            "input_1 (InputLayer)         [(None, 28, 28, 1)]       0         \n",
            "_________________________________________________________________\n",
            "conv2d (Conv2D)              (None, 28, 28, 32)        320       \n",
            "_________________________________________________________________\n",
            "batch_normalization (BatchNo (None, 28, 28, 32)        128       \n",
            "_________________________________________________________________\n",
            "conv2d_1 (Conv2D)            (None, 28, 28, 32)        9248      \n",
            "_________________________________________________________________\n",
            "batch_normalization_1 (Batch (None, 28, 28, 32)        128       \n",
            "_________________________________________________________________\n",
            "max_pooling2d (MaxPooling2D) (None, 14, 14, 32)        0         \n",
            "_________________________________________________________________\n",
            "conv2d_2 (Conv2D)            (None, 14, 14, 64)        18496     \n",
            "_________________________________________________________________\n",
            "batch_normalization_2 (Batch (None, 14, 14, 64)        256       \n",
            "_________________________________________________________________\n",
            "conv2d_3 (Conv2D)            (None, 14, 14, 64)        36928     \n",
            "_________________________________________________________________\n",
            "batch_normalization_3 (Batch (None, 14, 14, 64)        256       \n",
            "_________________________________________________________________\n",
            "max_pooling2d_1 (MaxPooling2 (None, 7, 7, 64)          0         \n",
            "_________________________________________________________________\n",
            "conv2d_4 (Conv2D)            (None, 7, 7, 128)         73856     \n",
            "_________________________________________________________________\n",
            "batch_normalization_4 (Batch (None, 7, 7, 128)         512       \n",
            "_________________________________________________________________\n",
            "conv2d_5 (Conv2D)            (None, 7, 7, 128)         147584    \n",
            "_________________________________________________________________\n",
            "batch_normalization_5 (Batch (None, 7, 7, 128)         512       \n",
            "_________________________________________________________________\n",
            "max_pooling2d_2 (MaxPooling2 (None, 3, 3, 128)         0         \n",
            "_________________________________________________________________\n",
            "flatten (Flatten)            (None, 1152)              0         \n",
            "_________________________________________________________________\n",
            "dropout (Dropout)            (None, 1152)              0         \n",
            "_________________________________________________________________\n",
            "dense (Dense)                (None, 1024)              1180672   \n",
            "_________________________________________________________________\n",
            "dropout_1 (Dropout)          (None, 1024)              0         \n",
            "_________________________________________________________________\n",
            "dense_1 (Dense)              (None, 10)                10250     \n",
            "=================================================================\n",
            "Total params: 1,479,146\n",
            "Trainable params: 1,478,250\n",
            "Non-trainable params: 896\n",
            "_________________________________________________________________\n"
          ],
          "name": "stdout"
        }
      ]
    },
    {
      "cell_type": "code",
      "metadata": {
        "id": "ONXDRP8PljKb",
        "colab_type": "code",
        "colab": {}
      },
      "source": [
        "# Compile\n",
        "# Note: make sure you are using the GPU for this!\n",
        "model.compile(optimizer='adam',\n",
        "              loss='sparse_categorical_crossentropy',\n",
        "              metrics=['accuracy'])"
      ],
      "execution_count": 0,
      "outputs": []
    },
    {
      "cell_type": "code",
      "metadata": {
        "id": "K_ABhnMSllIY",
        "colab_type": "code",
        "outputId": "a8759fc7-631c-4b89-c338-ae7b097f881a",
        "colab": {
          "base_uri": "https://localhost:8080/",
          "height": 714
        }
      },
      "source": [
        "# Fit\n",
        "r1 = model.fit(xtrain, ytrain, validation_data=(xtest, ytest), epochs=20)"
      ],
      "execution_count": 0,
      "outputs": [
        {
          "output_type": "stream",
          "text": [
            "Train on 60000 samples, validate on 10000 samples\n",
            "Epoch 1/20\n",
            "60000/60000 [==============================] - 11s 180us/sample - loss: 0.0160 - accuracy: 0.9955 - val_loss: 0.0173 - val_accuracy: 0.9948\n",
            "Epoch 2/20\n",
            "60000/60000 [==============================] - 11s 176us/sample - loss: 0.0116 - accuracy: 0.9968 - val_loss: 0.0185 - val_accuracy: 0.9949\n",
            "Epoch 3/20\n",
            "60000/60000 [==============================] - 11s 176us/sample - loss: 0.0091 - accuracy: 0.9973 - val_loss: 0.0309 - val_accuracy: 0.9928\n",
            "Epoch 4/20\n",
            "60000/60000 [==============================] - 10s 175us/sample - loss: 0.0086 - accuracy: 0.9973 - val_loss: 0.0215 - val_accuracy: 0.9944\n",
            "Epoch 5/20\n",
            "60000/60000 [==============================] - 11s 175us/sample - loss: 0.0085 - accuracy: 0.9977 - val_loss: 0.0284 - val_accuracy: 0.9935\n",
            "Epoch 6/20\n",
            "60000/60000 [==============================] - 10s 173us/sample - loss: 0.0067 - accuracy: 0.9982 - val_loss: 0.0277 - val_accuracy: 0.9941\n",
            "Epoch 7/20\n",
            "60000/60000 [==============================] - 10s 173us/sample - loss: 0.0072 - accuracy: 0.9981 - val_loss: 0.0202 - val_accuracy: 0.9955\n",
            "Epoch 8/20\n",
            "60000/60000 [==============================] - 11s 176us/sample - loss: 0.0056 - accuracy: 0.9985 - val_loss: 0.0233 - val_accuracy: 0.9950\n",
            "Epoch 9/20\n",
            "60000/60000 [==============================] - 10s 173us/sample - loss: 0.0076 - accuracy: 0.9981 - val_loss: 0.0360 - val_accuracy: 0.9926\n",
            "Epoch 10/20\n",
            "60000/60000 [==============================] - 10s 173us/sample - loss: 0.0060 - accuracy: 0.9982 - val_loss: 0.0278 - val_accuracy: 0.9946\n",
            "Epoch 11/20\n",
            "60000/60000 [==============================] - 10s 173us/sample - loss: 0.0055 - accuracy: 0.9985 - val_loss: 0.0250 - val_accuracy: 0.9946\n",
            "Epoch 12/20\n",
            "60000/60000 [==============================] - 10s 174us/sample - loss: 0.0067 - accuracy: 0.9980 - val_loss: 0.0255 - val_accuracy: 0.9934\n",
            "Epoch 13/20\n",
            "60000/60000 [==============================] - 10s 173us/sample - loss: 0.0043 - accuracy: 0.9989 - val_loss: 0.0316 - val_accuracy: 0.9940\n",
            "Epoch 14/20\n",
            "60000/60000 [==============================] - 10s 174us/sample - loss: 0.0057 - accuracy: 0.9983 - val_loss: 0.0344 - val_accuracy: 0.9949\n",
            "Epoch 15/20\n",
            "60000/60000 [==============================] - 10s 174us/sample - loss: 0.0049 - accuracy: 0.9988 - val_loss: 0.0330 - val_accuracy: 0.9952\n",
            "Epoch 16/20\n",
            "60000/60000 [==============================] - 10s 175us/sample - loss: 0.0060 - accuracy: 0.9984 - val_loss: 0.0374 - val_accuracy: 0.9939\n",
            "Epoch 17/20\n",
            "60000/60000 [==============================] - 10s 173us/sample - loss: 0.0046 - accuracy: 0.9988 - val_loss: 0.0274 - val_accuracy: 0.9959\n",
            "Epoch 18/20\n",
            "60000/60000 [==============================] - 10s 173us/sample - loss: 0.0050 - accuracy: 0.9985 - val_loss: 0.0387 - val_accuracy: 0.9938\n",
            "Epoch 19/20\n",
            "60000/60000 [==============================] - 10s 174us/sample - loss: 0.0042 - accuracy: 0.9990 - val_loss: 0.0318 - val_accuracy: 0.9950\n",
            "Epoch 20/20\n",
            "60000/60000 [==============================] - 10s 174us/sample - loss: 0.0053 - accuracy: 0.9986 - val_loss: 0.0466 - val_accuracy: 0.9944\n"
          ],
          "name": "stdout"
        }
      ]
    },
    {
      "cell_type": "markdown",
      "metadata": {
        "id": "nN4jmlhrvNxz",
        "colab_type": "text"
      },
      "source": [
        "# Step 4 : Making Predictions"
      ]
    },
    {
      "cell_type": "code",
      "metadata": {
        "id": "OmVYPWXgp3HA",
        "colab_type": "code",
        "colab": {}
      },
      "source": [
        "ypred2=model.predict(xtest)"
      ],
      "execution_count": 0,
      "outputs": []
    },
    {
      "cell_type": "code",
      "metadata": {
        "id": "lKTbDunOrggB",
        "colab_type": "code",
        "outputId": "bc8e1d97-9bcd-489b-c4d3-dbe9cdf3fd4f",
        "colab": {
          "base_uri": "https://localhost:8080/",
          "height": 238
        }
      },
      "source": [
        "print(ypred2)"
      ],
      "execution_count": 0,
      "outputs": [
        {
          "output_type": "stream",
          "text": [
            "[[6.8613575e-26 3.5576480e-16 8.0172368e-20 ... 1.0000000e+00\n",
            "  1.9301391e-24 3.2230438e-15]\n",
            " [2.7581849e-21 8.1810487e-18 1.0000000e+00 ... 9.9425210e-17\n",
            "  3.6014498e-25 2.7472979e-27]\n",
            " [8.4901455e-27 1.0000000e+00 1.4248709e-28 ... 1.2830696e-24\n",
            "  3.6277941e-28 1.0740333e-33]\n",
            " ...\n",
            " [0.0000000e+00 5.2402074e-29 0.0000000e+00 ... 0.0000000e+00\n",
            "  3.1221530e-38 1.2379118e-35]\n",
            " [7.0792164e-33 3.9457898e-32 2.1002828e-32 ... 5.4623271e-32\n",
            "  3.3023019e-27 3.4373394e-33]\n",
            " [6.0172401e-29 1.1989596e-29 8.9958584e-33 ... 0.0000000e+00\n",
            "  3.7073805e-30 0.0000000e+00]]\n"
          ],
          "name": "stdout"
        }
      ]
    },
    {
      "cell_type": "code",
      "metadata": {
        "id": "FU3lM6l3rkDF",
        "colab_type": "code",
        "colab": {}
      },
      "source": [
        "ypred2=np.argmax(ypred2,axis=1)"
      ],
      "execution_count": 0,
      "outputs": []
    },
    {
      "cell_type": "code",
      "metadata": {
        "id": "J-XG3J8FrwCu",
        "colab_type": "code",
        "outputId": "6412a155-ebf4-4317-f883-e645fe606dde",
        "colab": {
          "base_uri": "https://localhost:8080/",
          "height": 34
        }
      },
      "source": [
        "print(ypred2)"
      ],
      "execution_count": 0,
      "outputs": [
        {
          "output_type": "stream",
          "text": [
            "[7 2 1 ... 4 5 6]\n"
          ],
          "name": "stdout"
        }
      ]
    },
    {
      "cell_type": "markdown",
      "metadata": {
        "id": "n7yvCSCrvUUj",
        "colab_type": "text"
      },
      "source": [
        "# Step 5 : Evaluating Model"
      ]
    },
    {
      "cell_type": "code",
      "metadata": {
        "id": "aotRH1wUqVCW",
        "colab_type": "code",
        "colab": {}
      },
      "source": [
        "from sklearn.metrics import confusion_matrix, accuracy_score"
      ],
      "execution_count": 0,
      "outputs": []
    },
    {
      "cell_type": "code",
      "metadata": {
        "id": "9Q9TN9dwloFY",
        "colab_type": "code",
        "outputId": "5111623b-1e4d-45d0-d34e-be3c7a638cf0",
        "colab": {
          "base_uri": "https://localhost:8080/",
          "height": 187
        }
      },
      "source": [
        "cm1=confusion_matrix(ypred2,ytest)\n",
        "print(cm1)\n"
      ],
      "execution_count": 0,
      "outputs": [
        {
          "output_type": "stream",
          "text": [
            "[[ 978    0    1    0    0    0    1    0    1    1]\n",
            " [   0 1132    0    0    0    0    1    4    0    0]\n",
            " [   0    1 1025    0    0    0    0    4    1    1]\n",
            " [   0    0    1 1009    0    6    0    0    2    0]\n",
            " [   0    0    0    0  974    0    0    0    0    6]\n",
            " [   0    0    0    1    0  882    0    0    0    2]\n",
            " [   1    1    1    0    1    4  956    0    0    0]\n",
            " [   1    1    4    0    0    0    0 1020    0    1]\n",
            " [   0    0    0    0    0    0    0    0  970    0]\n",
            " [   0    0    0    0    7    0    0    0    0  998]]\n"
          ],
          "name": "stdout"
        }
      ]
    },
    {
      "cell_type": "code",
      "metadata": {
        "id": "-XrZFWDzqShB",
        "colab_type": "code",
        "outputId": "8bde3ecf-e31a-4059-b059-fe1b68f38685",
        "colab": {
          "base_uri": "https://localhost:8080/",
          "height": 34
        }
      },
      "source": [
        "print(accuracy_score(ypred2,ytest))"
      ],
      "execution_count": 0,
      "outputs": [
        {
          "output_type": "stream",
          "text": [
            "0.9944\n"
          ],
          "name": "stdout"
        }
      ]
    },
    {
      "cell_type": "code",
      "metadata": {
        "id": "cVfHN2pAnJ3L",
        "colab_type": "code",
        "outputId": "0561eea4-ef02-40d3-f66f-54bc6b29da0b",
        "colab": {
          "base_uri": "https://localhost:8080/",
          "height": 282
        }
      },
      "source": [
        "# Plot loss per iteration\n",
        "import matplotlib.pyplot as plt\n",
        "plt.plot(r1.history['loss'], label='Train loss')\n",
        "plt.plot(r1.history['val_loss'], label='Test val_loss')\n",
        "plt.legend()"
      ],
      "execution_count": 0,
      "outputs": [
        {
          "output_type": "execute_result",
          "data": {
            "text/plain": [
              "<matplotlib.legend.Legend at 0x7f45a1c0f278>"
            ]
          },
          "metadata": {
            "tags": []
          },
          "execution_count": 44
        },
        {
          "output_type": "display_data",
          "data": {
            "image/png": "[encoded data removed]",
            "text/plain": [
              "<Figure size 432x288 with 1 Axes>"
            ]
          },
          "metadata": {
            "tags": [],
            "needs_background": "light"
          }
        }
      ]
    },
    {
      "cell_type": "code",
      "metadata": {
        "id": "svtuakV5nMDH",
        "colab_type": "code",
        "outputId": "61319b1c-e3a6-462c-c7a7-2c97c295a01a",
        "colab": {
          "base_uri": "https://localhost:8080/",
          "height": 282
        }
      },
      "source": [
        "# Plot loss per iteration\n",
        "import matplotlib.pyplot as plt\n",
        "plt.plot(r1.history['accuracy'], label='Training accuracy')\n",
        "plt.plot(r1.history['val_accuracy'], label=' Test accuracy')\n",
        "plt.legend()"
      ],
      "execution_count": 0,
      "outputs": [
        {
          "output_type": "execute_result",
          "data": {
            "text/plain": [
              "<matplotlib.legend.Legend at 0x7f45a1b6a320>"
            ]
          },
          "metadata": {
            "tags": []
          },
          "execution_count": 45
        },
        {
          "output_type": "display_data",
          "data": {
            "image/png": "[encoded data removed]",
            "text/plain": [
              "<Figure size 432x288 with 1 Axes>"
            ]
          },
          "metadata": {
            "tags": [],
            "needs_background": "light"
          }
        }
      ]
    },
    {
      "cell_type": "code",
      "metadata": {
        "id": "CVGwZTlLnSuv",
        "colab_type": "code",
        "outputId": "5920809a-c4e0-4b08-d2aa-7cdf5cd2ce3e",
        "colab": {
          "base_uri": "https://localhost:8080/",
          "height": 498
        }
      },
      "source": [
        "# Plot confusion matrix\n",
        "from sklearn.metrics import confusion_matrix\n",
        "import itertools\n",
        "\n",
        "def plot_confusion_matrix(cm, classes,\n",
        "                          normalize=False,\n",
        "                          title='Confusion matrix',\n",
        "                          cmap=plt.cm.Blues):\n",
        "  \"\"\"\n",
        "  This function prints and plots the confusion matrix.\n",
        "  Normalization can be applied by setting `normalize=True`.\n",
        "  \"\"\"\n",
        "  if normalize:\n",
        "      cm = cm.astype('float') / cm.sum(axis=1)[:, np.newaxis]\n",
        "      print(\"Normalized confusion matrix\")\n",
        "  else:\n",
        "      print('Confusion matrix, without normalization')\n",
        "\n",
        "  print(cm)\n",
        "\n",
        "  plt.imshow(cm, interpolation='nearest', cmap=cmap)\n",
        "  plt.title(title)\n",
        "  plt.colorbar()\n",
        "  tick_marks = np.arange(len(classes))\n",
        "  plt.xticks(tick_marks, classes, rotation=45)\n",
        "  plt.yticks(tick_marks, classes)\n",
        "\n",
        "  fmt = '.2f' if normalize else 'd'\n",
        "  thresh = cm.max() / 2.\n",
        "  for i, j in itertools.product(range(cm.shape[0]), range(cm.shape[1])):\n",
        "      plt.text(j, i, format(cm[i, j], fmt),\n",
        "               horizontalalignment=\"center\",\n",
        "               color=\"white\" if cm[i, j] > thresh else \"black\")\n",
        "\n",
        "  plt.tight_layout()\n",
        "  plt.ylabel('True label')\n",
        "  plt.xlabel('Predicted label')\n",
        "  plt.show()\n",
        "\n",
        "\n",
        "p_test = model.predict(xtest).argmax(axis=1)\n",
        "cm = confusion_matrix(ytest, p_test)\n",
        "plot_confusion_matrix(cm, list(range(10)))"
      ],
      "execution_count": 0,
      "outputs": [
        {
          "output_type": "stream",
          "text": [
            "Confusion matrix, without normalization\n",
            "[[ 978    0    0    0    0    0    1    1    0    0]\n",
            " [   0 1132    1    0    0    0    1    1    0    0]\n",
            " [   1    0 1025    1    0    0    1    4    0    0]\n",
            " [   0    0    0 1009    0    1    0    0    0    0]\n",
            " [   0    0    0    0  974    0    1    0    0    7]\n",
            " [   0    0    0    6    0  882    4    0    0    0]\n",
            " [   1    1    0    0    0    0  956    0    0    0]\n",
            " [   0    4    4    0    0    0    0 1020    0    0]\n",
            " [   1    0    1    2    0    0    0    0  970    0]\n",
            " [   1    0    1    0    6    2    0    1    0  998]]\n"
          ],
          "name": "stdout"
        },
        {
          "output_type": "display_data",
          "data": {
            "image/png": "[encoded data removed]",
            "text/plain": [
              "<Figure size 432x288 with 2 Axes>"
            ]
          },
          "metadata": {
            "tags": [],
            "needs_background": "light"
          }
        }
      ]
    },
    {
      "cell_type": "markdown",
      "metadata": {
        "id": "fzQy4T3_vcuL",
        "colab_type": "text"
      },
      "source": [
        "# IMPROVING MNIST RESULTS"
      ]
    },
    {
      "cell_type": "code",
      "metadata": {
        "id": "Oho8iCzKvkRk",
        "colab_type": "code",
        "colab": {}
      },
      "source": [
        "from tensorflow.keras.preprocessing.image import ImageDataGenerator"
      ],
      "execution_count": 0,
      "outputs": []
    },
    {
      "cell_type": "code",
      "metadata": {
        "id": "KRl4yyV3vqtV",
        "colab_type": "code",
        "colab": {}
      },
      "source": [
        "data_generator=ImageDataGenerator(width_shift_range=0.1,horizontal_flip=True,height_shift_range=0.1)"
      ],
      "execution_count": 0,
      "outputs": []
    },
    {
      "cell_type": "code",
      "metadata": {
        "id": "BSwfDMHiv5Y1",
        "colab_type": "code",
        "colab": {}
      },
      "source": [
        "batch_size=32\n",
        "train_generator=data_generator.flow(xtrain,ytrain,batch_size=batch_size)"
      ],
      "execution_count": 0,
      "outputs": []
    },
    {
      "cell_type": "code",
      "metadata": {
        "id": "bLmf4RlawKFZ",
        "colab_type": "code",
        "outputId": "9e12866d-2d72-40c2-acc0-cb9dc87815b8",
        "colab": {
          "base_uri": "https://localhost:8080/",
          "height": 782
        }
      },
      "source": [
        "steps_per_epoch = xtrain.shape[0] // batch_size\n",
        "r2=model.fit(train_generator,epochs=20,steps_per_epoch=steps_per_epoch,validation_data=(xtest,ytest))"
      ],
      "execution_count": 0,
      "outputs": [
        {
          "output_type": "stream",
          "text": [
            "WARNING:tensorflow:sample_weight modes were coerced from\n",
            "  ...\n",
            "    to  \n",
            "  ['...']\n",
            "Train for 1875 steps, validate on 10000 samples\n",
            "Epoch 1/20\n",
            "1875/1875 [==============================] - 19s 10ms/step - loss: 0.0734 - accuracy: 0.9795 - val_loss: 0.0337 - val_accuracy: 0.9897\n",
            "Epoch 2/20\n",
            "1875/1875 [==============================] - 19s 10ms/step - loss: 0.0419 - accuracy: 0.9863 - val_loss: 0.0364 - val_accuracy: 0.9890\n",
            "Epoch 3/20\n",
            "1875/1875 [==============================] - 19s 10ms/step - loss: 0.0372 - accuracy: 0.9884 - val_loss: 0.0387 - val_accuracy: 0.9877\n",
            "Epoch 4/20\n",
            "1875/1875 [==============================] - 19s 10ms/step - loss: 0.0358 - accuracy: 0.9897 - val_loss: 0.0263 - val_accuracy: 0.9922\n",
            "Epoch 5/20\n",
            "1875/1875 [==============================] - 19s 10ms/step - loss: 0.0327 - accuracy: 0.9896 - val_loss: 0.0313 - val_accuracy: 0.9901\n",
            "Epoch 6/20\n",
            "1875/1875 [==============================] - 19s 10ms/step - loss: 0.0314 - accuracy: 0.9902 - val_loss: 0.0312 - val_accuracy: 0.9901\n",
            "Epoch 7/20\n",
            "1875/1875 [==============================] - 19s 10ms/step - loss: 0.0296 - accuracy: 0.9911 - val_loss: 0.0273 - val_accuracy: 0.9917\n",
            "Epoch 8/20\n",
            "1875/1875 [==============================] - 19s 10ms/step - loss: 0.0301 - accuracy: 0.9906 - val_loss: 0.0255 - val_accuracy: 0.9925\n",
            "Epoch 9/20\n",
            "1875/1875 [==============================] - 19s 10ms/step - loss: 0.0294 - accuracy: 0.9914 - val_loss: 0.0291 - val_accuracy: 0.9913\n",
            "Epoch 10/20\n",
            "1875/1875 [==============================] - 19s 10ms/step - loss: 0.0289 - accuracy: 0.9915 - val_loss: 0.0246 - val_accuracy: 0.9927\n",
            "Epoch 11/20\n",
            "1875/1875 [==============================] - 19s 10ms/step - loss: 0.0289 - accuracy: 0.9909 - val_loss: 0.0247 - val_accuracy: 0.9927\n",
            "Epoch 12/20\n",
            "1875/1875 [==============================] - 19s 10ms/step - loss: 0.0266 - accuracy: 0.9920 - val_loss: 0.0336 - val_accuracy: 0.9898\n",
            "Epoch 13/20\n",
            "1875/1875 [==============================] - 18s 10ms/step - loss: 0.0270 - accuracy: 0.9913 - val_loss: 0.0321 - val_accuracy: 0.9915\n",
            "Epoch 14/20\n",
            "1875/1875 [==============================] - 18s 10ms/step - loss: 0.0244 - accuracy: 0.9920 - val_loss: 0.0351 - val_accuracy: 0.9898\n",
            "Epoch 15/20\n",
            "1875/1875 [==============================] - 19s 10ms/step - loss: 0.0249 - accuracy: 0.9926 - val_loss: 0.0345 - val_accuracy: 0.9890\n",
            "Epoch 16/20\n",
            "1875/1875 [==============================] - 19s 10ms/step - loss: 0.0247 - accuracy: 0.9922 - val_loss: 0.0269 - val_accuracy: 0.9919\n",
            "Epoch 17/20\n",
            "1875/1875 [==============================] - 19s 10ms/step - loss: 0.0230 - accuracy: 0.9929 - val_loss: 0.0298 - val_accuracy: 0.9906\n",
            "Epoch 18/20\n",
            "1875/1875 [==============================] - 19s 10ms/step - loss: 0.0236 - accuracy: 0.9924 - val_loss: 0.0298 - val_accuracy: 0.9922\n",
            "Epoch 19/20\n",
            "1875/1875 [==============================] - 19s 10ms/step - loss: 0.0246 - accuracy: 0.9920 - val_loss: 0.0298 - val_accuracy: 0.9911\n",
            "Epoch 20/20\n",
            "1875/1875 [==============================] - 18s 10ms/step - loss: 0.0223 - accuracy: 0.9929 - val_loss: 0.0328 - val_accuracy: 0.9904\n"
          ],
          "name": "stdout"
        }
      ]
    },
    {
      "cell_type": "code",
      "metadata": {
        "id": "XD6RQ0eB6XZp",
        "colab_type": "code",
        "colab": {}
      },
      "source": [
        "ypred3=model.predict(xtest)"
      ],
      "execution_count": 0,
      "outputs": []
    },
    {
      "cell_type": "code",
      "metadata": {
        "id": "v-D1_v7pwj6g",
        "colab_type": "code",
        "colab": {}
      },
      "source": [
        "ypred3=np.argmax(ypred3,axis=1)"
      ],
      "execution_count": 0,
      "outputs": []
    },
    {
      "cell_type": "code",
      "metadata": {
        "id": "-DOQOOoS3JUy",
        "colab_type": "code",
        "outputId": "0ad790f9-dc41-434b-83ba-63a2bb94d6e8",
        "colab": {
          "base_uri": "https://localhost:8080/",
          "height": 282
        }
      },
      "source": [
        "# Plot loss per iteration\n",
        "import matplotlib.pyplot as plt\n",
        "plt.plot(r2.history['loss'], label='Train loss')\n",
        "plt.plot(r2.history['val_loss'], label='Test val_loss')\n",
        "plt.legend()"
      ],
      "execution_count": 0,
      "outputs": [
        {
          "output_type": "execute_result",
          "data": {
            "text/plain": [
              "<matplotlib.legend.Legend at 0x7f459f9c5e80>"
            ]
          },
          "metadata": {
            "tags": []
          },
          "execution_count": 52
        },
        {
          "output_type": "display_data",
          "data": {
            "image/png": "[encoded data removed]",
            "text/plain": [
              "<Figure size 432x288 with 1 Axes>"
            ]
          },
          "metadata": {
            "tags": [],
            "needs_background": "light"
          }
        }
      ]
    },
    {
      "cell_type": "code",
      "metadata": {
        "id": "LaPqwkfV3J7n",
        "colab_type": "code",
        "outputId": "a9656c71-1855-416f-8bdd-25327b325af4",
        "colab": {
          "base_uri": "https://localhost:8080/",
          "height": 282
        }
      },
      "source": [
        "# Plot loss per iteration\n",
        "import matplotlib.pyplot as plt\n",
        "plt.plot(r2.history['accuracy'], label='Training accuracy')\n",
        "plt.plot(r2.history['val_accuracy'], label=' Test accuracy')\n",
        "plt.legend()"
      ],
      "execution_count": 0,
      "outputs": [
        {
          "output_type": "execute_result",
          "data": {
            "text/plain": [
              "<matplotlib.legend.Legend at 0x7f459e028198>"
            ]
          },
          "metadata": {
            "tags": []
          },
          "execution_count": 53
        },
        {
          "output_type": "display_data",
          "data": {
            "image/png": "[encoded data removed]",
            "text/plain": [
              "<Figure size 432x288 with 1 Axes>"
            ]
          },
          "metadata": {
            "tags": [],
            "needs_background": "light"
          }
        }
      ]
    },
    {
      "cell_type": "code",
      "metadata": {
        "id": "_08ySG0wxGQP",
        "colab_type": "code",
        "outputId": "1c0b7c0f-5863-4900-bee3-89744423183e",
        "colab": {
          "base_uri": "https://localhost:8080/",
          "height": 187
        }
      },
      "source": [
        "cm2=confusion_matrix(ypred3,ytest)\n",
        "print(cm2)"
      ],
      "execution_count": 0,
      "outputs": [
        {
          "output_type": "stream",
          "text": [
            "[[ 973    0    1    0    0    0    6    0    0    0]\n",
            " [   0 1134    2    0    1    0    3    4    0    0]\n",
            " [   0    0 1010    0    0   11    7    2    1    4]\n",
            " [   1    1    2 1009    0    3    0    0    1    1]\n",
            " [   0    0    0    0  975    0    0    0    0    4]\n",
            " [   0    0    5    1    0  873    0    2    0    0]\n",
            " [   2    0    9    0    0    2  940    0    0    0]\n",
            " [   0    0    3    0    0    3    0 1020    0    0]\n",
            " [   1    0    0    0    1    0    2    0  972    2]\n",
            " [   3    0    0    0    5    0    0    0    0  998]]\n"
          ],
          "name": "stdout"
        }
      ]
    },
    {
      "cell_type": "code",
      "metadata": {
        "id": "izzGKepa6QWQ",
        "colab_type": "code",
        "outputId": "b1e1a803-e449-4ae3-eedd-556f8e2878b3",
        "colab": {
          "base_uri": "https://localhost:8080/",
          "height": 34
        }
      },
      "source": [
        "print(accuracy_score(ypred3,ytest))"
      ],
      "execution_count": 0,
      "outputs": [
        {
          "output_type": "stream",
          "text": [
            "0.9904\n"
          ],
          "name": "stdout"
        }
      ]
    }
  ]
}